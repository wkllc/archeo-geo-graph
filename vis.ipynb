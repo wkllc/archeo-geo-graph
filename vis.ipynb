{
 "cells": [
  {
   "cell_type": "code",
   "execution_count": 2,
   "metadata": {},
   "outputs": [],
   "source": [
    "import contextily as cx\n",
    "import matplotlib.pyplot as plt\n",
    "import networkx as nx\n",
    "import numpy as np\n",
    "from collections import namedtuple\n",
    "from matplotlib.colors import Normalize \n",
    "\n",
    "import geopandas\n",
    "\n",
    "import argparse\n",
    "import pandas as pd\n",
    "import pprint"
   ]
  },
  {
   "cell_type": "code",
   "execution_count": 3,
   "metadata": {},
   "outputs": [],
   "source": [
    "def parse_coordinates(file_name):\n",
    "    df = pd.read_csv(file_name, sep=';', index_col='Node')\n",
    "    return df.T.to_dict()"
   ]
  },
  {
   "cell_type": "code",
   "execution_count": 6,
   "metadata": {},
   "outputs": [],
   "source": [
    "def parse_imports(node_coordinates, file_name, century):\n",
    "\n",
    "    df = pd.read_csv(file_name, sep=';')\n",
    "    df_for_century = df.dropna(subset=[str(century)])\n",
    "\n",
    "    # collect all nodes in a set\n",
    "    node_names = set(df_for_century['Source node']).union(df_for_century['Target node'])\n",
    "    nodes = {}\n",
    "    for node_name in node_names:\n",
    "        coordinates = node_coordinates.get(node_name) #the location of the nodes in a coordinate value\n",
    "        if not coordinates:\n",
    "            raise RuntimeError(f\"Node name {node_name} not found in coordinates file\")\n",
    "        nodes[node_name] = float(coordinates['E']), float(coordinates['N']) \n",
    "\n",
    "    edges = df_for_century.loc[:, ['Source node', 'Target node', 'Quantity', '% of imports for site per century', '% of all pottery for site per century']]\n",
    "    Edge = namedtuple('Edge', ['source', 'target', 'quantity', 'percent_imports', 'percent_of_all_for_site'])\n",
    "    edges = [Edge(source=r[0], target=r[1], quantity=int(r[2]), percent_imports=float(r[3]), percent_of_all_for_site=float(r[4])) for r in edges.to_numpy()]\n",
    "\n",
    "    return nodes, edges"
   ]
  },
  {
   "cell_type": "code",
   "execution_count": 4,
   "metadata": {},
   "outputs": [],
   "source": [
    "node_coordinates = parse_coordinates(\"Coordinates_version3.csv\")"
   ]
  },
  {
   "cell_type": "code",
   "execution_count": 7,
   "metadata": {},
   "outputs": [],
   "source": [
    "nodes, edges = parse_imports(node_coordinates, \"imports_percent_combined_version4.csv\", 15)"
   ]
  },
  {
   "cell_type": "code",
   "execution_count": 17,
   "metadata": {},
   "outputs": [
    {
     "data": {
      "text/plain": [
       "{'Mytilini': (26.55529, 39.10772),\n",
       " 'Northwest_Anatolia': (29.90424, 39.99395),\n",
       " 'Sofia': (23.32415, 42.69751),\n",
       " 'Valencia_Spain': (-0.37966, 39.47391),\n",
       " 'Levant': (36.0, 34.0),\n",
       " 'Italian_States': (12.83333, 42.83333),\n",
       " 'Ephesus': (27.36849, 37.95137),\n",
       " 'Varna': (27.91667, 43.21667)}"
      ]
     },
     "execution_count": 17,
     "metadata": {},
     "output_type": "execute_result"
    }
   ],
   "source": [
    "nodes"
   ]
  },
  {
   "cell_type": "code",
   "execution_count": 22,
   "metadata": {},
   "outputs": [
    {
     "data": {
      "text/plain": [
       "[Edge(source='Northwest_Anatolia', target='Sofia', quantity=9, percent_imports=47.4, percent_of_all_for_site=24.6),\n",
       " Edge(source='Valencia_Spain', target='Sofia', quantity=2, percent_imports=10.5, percent_of_all_for_site=5.5),\n",
       " Edge(source='Ephesus', target='Sofia', quantity=6, percent_imports=31.6, percent_of_all_for_site=16.4),\n",
       " Edge(source='Italian_States', target='Sofia', quantity=2, percent_imports=10.5, percent_of_all_for_site=5.5),\n",
       " Edge(source='Northwest_Anatolia', target='Varna', quantity=1, percent_imports=50.0, percent_of_all_for_site=8.8),\n",
       " Edge(source='Italian_States', target='Varna', quantity=1, percent_imports=50.0, percent_of_all_for_site=8.8),\n",
       " Edge(source='Northwest_Anatolia', target='Mytilini', quantity=7, percent_imports=87.5, percent_of_all_for_site=16.9),\n",
       " Edge(source='Levant', target='Mytilini', quantity=1, percent_imports=12.5, percent_of_all_for_site=2.4)]"
      ]
     },
     "execution_count": 22,
     "metadata": {},
     "output_type": "execute_result"
    }
   ],
   "source": [
    "edges"
   ]
  },
  {
   "cell_type": "code",
   "execution_count": 35,
   "metadata": {},
   "outputs": [
    {
     "data": {
      "text/plain": [
       "{'Mytilini': (26.55529, 39.10772),\n",
       " 'Northwest_Anatolia': (29.90424, 39.99395),\n",
       " 'Sofia': (23.32415, 42.69751),\n",
       " 'Valencia_Spain': (-0.37966, 39.47391),\n",
       " 'Levant': (36.0, 34.0),\n",
       " 'Italian_States': (12.83333, 42.83333),\n",
       " 'Ephesus': (27.36849, 37.95137),\n",
       " 'Varna': (27.91667, 43.21667)}"
      ]
     },
     "execution_count": 35,
     "metadata": {},
     "output_type": "execute_result"
    }
   ],
   "source": [
    "nodes"
   ]
  },
  {
   "cell_type": "code",
   "execution_count": 43,
   "metadata": {},
   "outputs": [
    {
     "name": "stdout",
     "output_type": "stream",
     "text": [
      "{'Northwest_Anatolia': (29.90424, 39.99395), 'Mytilini': (26.55529, 39.10772), 'Levant': (36.0, 34.0)}\n",
      "['Northwest_Anatolia', 'Mytilini', 'Levant']\n",
      "('Northwest_Anatolia', 'Mytilini', {'source': 'Northwest_Anatolia', 'target': 'Mytilini', 'quantity': 7, 'percent_imports': 87.5, 'percent_of_all_for_site': 16.9})\n",
      "('Levant', 'Mytilini', {'source': 'Levant', 'target': 'Mytilini', 'quantity': 1, 'percent_imports': 12.5, 'percent_of_all_for_site': 2.4})\n"
     ]
    },
    {
     "data": {
      "text/plain": [
       "[None, None]"
      ]
     },
     "execution_count": 43,
     "metadata": {},
     "output_type": "execute_result"
    }
   ],
   "source": [
    "# find cities related to mytilini\n",
    "mytilininodes = []\n",
    "mytiliniedges = []\n",
    "for e in edges:\n",
    "    if e.source=='Mytilini' or e.target=='Mytilini':\n",
    "        if e.source not in mytilininodes:\n",
    "            mytilininodes.append(e.source)\n",
    "        if e.target not in mytilininodes:\n",
    "            mytilininodes.append(e.target)\n",
    "        mytiliniedges.append((e.source, e.target, {\"source\": e.source,\n",
    "        \"target\": e.target,\n",
    "        \"quantity\": e.quantity,\n",
    "        \"percent_imports\": e.percent_imports,\n",
    "        \"percent_of_all_for_site\": e.percent_of_all_for_site}))\n",
    "\n",
    "mnodes = {}\n",
    "for node in mytilininodes:\n",
    "    mnodes.update({node : nodes[node]})\n",
    "\n",
    "print(mnodes)\n",
    "print(mytilininodes)\n",
    "[print(e) for e in mytiliniedges]"
   ]
  },
  {
   "cell_type": "code",
   "execution_count": 1,
   "metadata": {},
   "outputs": [
    {
     "ename": "NameError",
     "evalue": "name 'nx' is not defined",
     "output_type": "error",
     "traceback": [
      "\u001b[0;31m---------------------------------------------------------------------------\u001b[0m",
      "\u001b[0;31mNameError\u001b[0m                                 Traceback (most recent call last)",
      "Cell \u001b[0;32mIn[1], line 1\u001b[0m\n\u001b[0;32m----> 1\u001b[0m G \u001b[38;5;241m=\u001b[39m \u001b[43mnx\u001b[49m\u001b[38;5;241m.\u001b[39mDiGraph()\n\u001b[1;32m      2\u001b[0m G\u001b[38;5;241m.\u001b[39madd_nodes_from(mytilininodes)\n\u001b[1;32m      3\u001b[0m G\u001b[38;5;241m.\u001b[39madd_edges_from(mytiliniedges)\n",
      "\u001b[0;31mNameError\u001b[0m: name 'nx' is not defined"
     ]
    }
   ],
   "source": [
    "G = nx.DiGraph()\n",
    "G.add_nodes_from(mytilininodes)\n",
    "G.add_edges_from(mytiliniedges)\n",
    "\n",
    "positions = mnodes\n",
    "\n",
    "# put the location of the nodes as coordinates on the map\n",
    "from shapely.geometry import Point\n",
    "cities, geometry = zip(*list(mnodes.items()))\n",
    "d = {'city': cities, 'geometry': list(map(Point, geometry))}\n",
    "gdf = geopandas.GeoDataFrame(d, crs=\"WGS84\")\n",
    "\n",
    "# plot with a nice basemap\n",
    "ax = gdf.plot(marker=\".\", figsize=(9,9))\n",
    "\n",
    "provider = cx.providers.Stadia.StamenTerrainBackground(api_key='44611a3b-edaf-42bc-a28a-09fd351ba577')\n",
    "provider[\"url\"] = provider[\"url\"] + \"?api_key={api_key}\"\n",
    "\n",
    "\n",
    "try:  # For issues with downloading/parsing basemaps in CI\n",
    "    cx.add_basemap(ax, crs=gdf.crs, source=provider, zoom=6, alpha=0.6)\n",
    "except:\n",
    "    print(\"Could not add basemap\")\n",
    "    pass\n",
    "ax.set_title(\"Trade in the Ottoman Empire\")\n",
    "ax.axis(\"off\")\n",
    "ax.set_xlim(-20, 50)\n",
    "ax.set_ylim(-20, 60)\n",
    "\n",
    "#change the colour of the nodes for only some nodes - blue for local source nodes, red for target nodes\n",
    "node_colors = {'Sofia': ('#AD5260'), 'Belgrade': ('#AD5260'), 'Varna': ('#AD5260'), 'Izmir': ('#AD5260'), 'Mytilini': ('#AD5260'), 'Northwest_Anatolia':('#607E9F'), \n",
    "'Northwest_Anatolia':('#607E9F'), 'Chanakkale':('#607E9F'), 'Didymoteicho':('#607E9F'), 'Levantt':('#607E9F'), 'Ephesus':('#607E9F')}\n",
    "node_color_list = [('#64513D')] * len(G.nodes()) #colour for the rest of the nodes\n",
    "\n",
    "# Create a mapping from nodes for the colouring\n",
    "for i, node in enumerate(G.nodes()):\n",
    "    if node in node_colors:\n",
    "        node_color_list[i] = node_colors[node]  \n",
    "\n",
    "#draw network nodes\n",
    "nx.draw_networkx_nodes(G, positions, node_color=node_color_list, \n",
    "        node_size=240, alpha=0.8,)\n",
    "\n",
    "#change the colour of the edges\n",
    "edge_colors = []\n",
    "for edge in G.edges():\n",
    "    source, target = edge\n",
    "    if source in {\"Northwest_Anatolia\", \"Chanakkale\", \"Didymoteicho\", \"Levantt\", \"Ephesus\"}:\n",
    "        edge_colors.append('#3D5064')  \n",
    "    else:\n",
    "        edge_colors.append('#202020')  \n",
    "\n",
    "#draw network edges\n",
    "min_alpha, max_alpha = 0.3, 1.0 #setting the min and max alpha for this attribute\n",
    "\n",
    "percent_import_values = np.array([data['percent_imports'] for _, _, data in G.edges(data=True)]) #preparing the percent_import data to be normalised\n",
    "norm = Normalize(vmin=percent_import_values.min(), vmax=percent_import_values.max())\n",
    "\n",
    "edge_alphas = [min_alpha + (max_alpha - min_alpha) * norm(data['percent_imports']) for _, _, data in G.edges(data=True)] # creating an array for the alpha\n",
    "\n",
    "nx.draw_networkx_edges(G, positions, edge_color=edge_colors, width=4, alpha=edge_alphas, arrows=True, arrowsize=17)\n",
    "\n",
    "#change the labels for the nodes\n",
    "labels_new = {'Kutahya':'Kütahya','Abisola_Italy':'Abisola', 'Central_Europe':'Central Europe', 'Valencia_Spain':'Valencia','Florence_Italy':'Florence',\n",
    "            'Faenza_Italy':'Faenza', 'Iznik/Kutahya':'Iznik/Kütahya', 'Orvieto_Italy':'Orvieto', 'Tuscany_Italy':'Tuscany', 'West_Europe':'West Europe', \n",
    "            'South_Italy':'South Italy','Italian_States':'Italian States', 'Northwest_Anatolia':'Northwest Anatolia', 'German_States':'German States'}\n",
    "\n",
    "current_nodes = {str(node): node for node in G.nodes()}\n",
    "\n",
    "labels_to_draw = {}\n",
    "for node in current_nodes:\n",
    "    if node in labels_new:\n",
    "        labels_to_draw[node] = labels_new[node]\n",
    "    else:\n",
    "        labels_to_draw[node] = node\n",
    "\n",
    "label_positions = {node: (pos[0], pos[1] + 0.3) for node, pos in positions.items()}\n",
    "#label_positions['Didymoteicho'] = (label_positions['Didymoteicho'][0] - 0.4, label_positions['Didymoteicho'][1] + 0.0)\n",
    "#label_positions['Chanakkale'] = (label_positions['Chanakkale'][0] - 1, label_positions['Chanakkale'][1] + 0.0)\n",
    "#label_positions['Vienna'] = (label_positions['Vienna'][0] - 2.5, label_positions['Vienna'][1] + 0.2)\n",
    "\n",
    "\n",
    "\n",
    "#draw network labels\n",
    "nx.draw_networkx_labels(G, label_positions, labels=labels_to_draw, font_size=14, font_color=('#202020'), font_weight='bold', \n",
    "horizontalalignment='left', verticalalignment='bottom') \n",
    "\n",
    "#draw edge labels for China - manually fix for each century, unfortunately\n",
    "\n",
    "edges_to_hide = [ ('China', 'Belgrade'), ('China', 'Sofia'), ('China','Izmir'),('China','Varna')] #hide edge labels for visualisaion purposes\n",
    "\n",
    "edge_labels = {}\n",
    "label_edge_positions = {}\n",
    "for u, v, data in G.edges(data=True):\n",
    "    if u in ('China', 'Japan') and (u, v) not in edges_to_hide:\n",
    "        edge_labels[(u, v)] = u\n",
    "        label_edge_positions[(u, v)] = positions[u]\n",
    "\n",
    "edge_label_positions = {key: (pos[0] - 42, pos[1] +2.2) for key, pos in positions.items()} #change the location for the China label\n",
    "\n",
    "\n",
    "# edge_labels = nx.get_edge_attributes(G, 'percent_imports') edge labels for the percent import\n",
    "nx.draw_networkx_edge_labels(G, edge_label_positions, edge_labels, font_size=14, font_color=('#202020'), font_weight='bold', \n",
    "horizontalalignment='left', bbox=dict(facecolor='none', edgecolor='none'))\n",
    "\n",
    "plt.show()"
   ]
  }
 ],
 "metadata": {
  "kernelspec": {
   "display_name": ".venv",
   "language": "python",
   "name": "python3"
  },
  "language_info": {
   "codemirror_mode": {
    "name": "ipython",
    "version": 3
   },
   "file_extension": ".py",
   "mimetype": "text/x-python",
   "name": "python",
   "nbconvert_exporter": "python",
   "pygments_lexer": "ipython3",
   "version": "3.12.3"
  }
 },
 "nbformat": 4,
 "nbformat_minor": 2
}
